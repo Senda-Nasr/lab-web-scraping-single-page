{
 "cells": [
  {
   "cell_type": "code",
   "execution_count": null,
   "id": "0d5e6ae1",
   "metadata": {},
   "outputs": [],
   "source": [
    "# 1. import libraries\n",
    "import requests # to download html code\n",
    "from bs4 import BeautifulSoup # to navigate through the html code\n",
    "import pandas as pd\n",
    "import numpy as np\n",
    "import re"
   ]
  },
  {
   "cell_type": "code",
   "execution_count": null,
   "id": "1c99c7cb",
   "metadata": {},
   "outputs": [],
   "source": [
    "def scrape_hot100():\n",
    "    hot_songs_url = \"https://www.billboard.com/charts/hot-100/\"\n",
    "    hot_songs_response = requests.get(hot_songs_url)\n",
    "    hot_songs_soup = BeautifulSoup(hot_songs_response.text, 'html.parser')\n",
    "    \n",
    "    if hot_songs_response.status_code == 200:\n",
    "        \n",
    "        hot_songs_titles = [elem.get_text().replace(\"\\n\", \"\").replace(\"\\t\", \"\") for elem in hot_songs_soup.select(\"div  ul  li  ul  li  h3\")]\n",
    "        hot_songs_artists = [elem.parent.find_all(\"span\")[0].get_text().replace(\"\\n\", \"\").replace(\"\\t\",\"\") for elem in hot_songs_soup.select(\"div ul li ul li h3\")]\n",
    "        \n",
    "        hot_songs_df = pd.DataFrame({'artist': hot_songs_artists, 'title': hot_songs_titles})\n",
    "        hot_songs_df.to_csv(\"hot_100.csv\", index=False)\n",
    "        return hot_songs_df"
   ]
  },
  {
   "cell_type": "code",
   "execution_count": null,
   "id": "77d18378",
   "metadata": {},
   "outputs": [],
   "source": [
    "scrape_hot100()"
   ]
  },
  {
   "cell_type": "code",
   "execution_count": null,
   "id": "ae1ceab5",
   "metadata": {},
   "outputs": [],
   "source": [
    "!dir"
   ]
  },
  {
   "cell_type": "code",
   "execution_count": null,
   "id": "5cb96c60",
   "metadata": {},
   "outputs": [],
   "source": [
    "pd.read_csv(\"hot_100.csv\")"
   ]
  },
  {
   "cell_type": "code",
   "execution_count": null,
   "id": "d2961422",
   "metadata": {},
   "outputs": [],
   "source": []
  }
 ],
 "metadata": {
  "kernelspec": {
   "display_name": "Python 3 (ipykernel)",
   "language": "python",
   "name": "python3"
  },
  "language_info": {
   "codemirror_mode": {
    "name": "ipython",
    "version": 3
   },
   "file_extension": ".py",
   "mimetype": "text/x-python",
   "name": "python",
   "nbconvert_exporter": "python",
   "pygments_lexer": "ipython3",
   "version": "3.11.5"
  }
 },
 "nbformat": 4,
 "nbformat_minor": 5
}

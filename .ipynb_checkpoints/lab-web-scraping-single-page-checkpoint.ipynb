{
 "cells": [
  {
   "cell_type": "code",
   "execution_count": 1,
   "id": "0d5e6ae1",
   "metadata": {},
   "outputs": [],
   "source": [
    "# 1. import libraries\n",
    "import requests # to download html code\n",
    "from bs4 import BeautifulSoup # to navigate through the html code\n",
    "import pandas as pd\n",
    "import numpy as np\n",
    "import re"
   ]
  },
  {
   "cell_type": "code",
   "execution_count": null,
   "id": "1c99c7cb",
   "metadata": {},
   "outputs": [],
   "source": [
    "def scrape_hot100():\n",
    "    hot_songs_url = \"https://www.billboard.com/charts/hot-100/\"\n",
    "    hot_songs_response = requests.get(hot_songs_url)\n",
    "    hot_songs_soup = BeautifulSoup(hot_songs_response.text, 'html.parser')\n",
    "    \n",
    "    if hot_songs_response.status_code == 200:\n",
    "        \n",
    "        hot_songs_titles = [elem.get_text().replace(\"\\n\", \"\").replace(\"\\t\", \"\") for elem in hot_songs_soup.select(\"div  ul  li  ul  li  h3\")]\n",
    "        hot_songs_artists = [elem.parent.find_all(\"span\")[0].get_text().replace(\"\\n\", \"\").replace(\"\\t\",\"\") for elem in hot_songs_soup.select(\"div ul li ul li h3\")]\n",
    "        \n",
    "        hot_songs_df = pd.DataFrame({'artist': hot_songs_artists, 'title': hot_songs_titles})\n",
    "        hot_songs_df.to_csv(\"hot_100.csv\", index=False)\n",
    "        return hot_songs_df"
   ]
  },
  {
   "cell_type": "code",
   "execution_count": null,
   "id": "77d18378",
   "metadata": {},
   "outputs": [],
   "source": [
    "scrape_hot100()"
   ]
  },
  {
   "cell_type": "code",
   "execution_count": null,
   "id": "ae1ceab5",
   "metadata": {},
   "outputs": [],
   "source": [
    "!dir"
   ]
  },
  {
   "cell_type": "code",
   "execution_count": 2,
   "id": "5cb96c60",
   "metadata": {},
   "outputs": [
    {
     "data": {
      "text/html": [
       "<div>\n",
       "<style scoped>\n",
       "    .dataframe tbody tr th:only-of-type {\n",
       "        vertical-align: middle;\n",
       "    }\n",
       "\n",
       "    .dataframe tbody tr th {\n",
       "        vertical-align: top;\n",
       "    }\n",
       "\n",
       "    .dataframe thead th {\n",
       "        text-align: right;\n",
       "    }\n",
       "</style>\n",
       "<table border=\"1\" class=\"dataframe\">\n",
       "  <thead>\n",
       "    <tr style=\"text-align: right;\">\n",
       "      <th></th>\n",
       "      <th>artist</th>\n",
       "      <th>title</th>\n",
       "    </tr>\n",
       "  </thead>\n",
       "  <tbody>\n",
       "    <tr>\n",
       "      <th>0</th>\n",
       "      <td>Jack Harlow</td>\n",
       "      <td>Lovin On Me</td>\n",
       "    </tr>\n",
       "    <tr>\n",
       "      <th>1</th>\n",
       "      <td>Taylor Swift</td>\n",
       "      <td>Cruel Summer</td>\n",
       "    </tr>\n",
       "    <tr>\n",
       "      <th>2</th>\n",
       "      <td>Tate McRae</td>\n",
       "      <td>Greedy</td>\n",
       "    </tr>\n",
       "    <tr>\n",
       "      <th>3</th>\n",
       "      <td>Doja Cat</td>\n",
       "      <td>Paint The Town Red</td>\n",
       "    </tr>\n",
       "    <tr>\n",
       "      <th>4</th>\n",
       "      <td>Zach Bryan Featuring Kacey Musgraves</td>\n",
       "      <td>I Remember Everything</td>\n",
       "    </tr>\n",
       "    <tr>\n",
       "      <th>...</th>\n",
       "      <td>...</td>\n",
       "      <td>...</td>\n",
       "    </tr>\n",
       "    <tr>\n",
       "      <th>95</th>\n",
       "      <td>Zach Bryan</td>\n",
       "      <td>Tourniquet</td>\n",
       "    </tr>\n",
       "    <tr>\n",
       "      <th>96</th>\n",
       "      <td>Junior H</td>\n",
       "      <td>Y Lloro</td>\n",
       "    </tr>\n",
       "    <tr>\n",
       "      <th>97</th>\n",
       "      <td>Sophie Ellis-Bextor</td>\n",
       "      <td>Murder On The Dancefloor</td>\n",
       "    </tr>\n",
       "    <tr>\n",
       "      <th>98</th>\n",
       "      <td>Karol G</td>\n",
       "      <td>Amargura</td>\n",
       "    </tr>\n",
       "    <tr>\n",
       "      <th>99</th>\n",
       "      <td>Lainey Wilson</td>\n",
       "      <td>Wildflowers And Wild Horses</td>\n",
       "    </tr>\n",
       "  </tbody>\n",
       "</table>\n",
       "<p>100 rows × 2 columns</p>\n",
       "</div>"
      ],
      "text/plain": [
       "                                  artist                        title\n",
       "0                            Jack Harlow                  Lovin On Me\n",
       "1                           Taylor Swift                 Cruel Summer\n",
       "2                             Tate McRae                       Greedy\n",
       "3                               Doja Cat           Paint The Town Red\n",
       "4   Zach Bryan Featuring Kacey Musgraves        I Remember Everything\n",
       "..                                   ...                          ...\n",
       "95                            Zach Bryan                   Tourniquet\n",
       "96                              Junior H                      Y Lloro\n",
       "97                   Sophie Ellis-Bextor     Murder On The Dancefloor\n",
       "98                               Karol G                     Amargura\n",
       "99                         Lainey Wilson  Wildflowers And Wild Horses\n",
       "\n",
       "[100 rows x 2 columns]"
      ]
     },
     "execution_count": 2,
     "metadata": {},
     "output_type": "execute_result"
    }
   ],
   "source": [
    "pd.read_csv(\"hot_100.csv\")"
   ]
  },
  {
   "cell_type": "code",
   "execution_count": null,
   "id": "d2961422",
   "metadata": {},
   "outputs": [],
   "source": []
  }
 ],
 "metadata": {
  "kernelspec": {
   "display_name": "Python 3 (ipykernel)",
   "language": "python",
   "name": "python3"
  },
  "language_info": {
   "codemirror_mode": {
    "name": "ipython",
    "version": 3
   },
   "file_extension": ".py",
   "mimetype": "text/x-python",
   "name": "python",
   "nbconvert_exporter": "python",
   "pygments_lexer": "ipython3",
   "version": "3.11.5"
  }
 },
 "nbformat": 4,
 "nbformat_minor": 5
}
